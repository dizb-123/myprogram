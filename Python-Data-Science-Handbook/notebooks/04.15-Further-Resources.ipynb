{
 "cells": [
  {
   "cell_type": "markdown",
   "metadata": {},
   "source": [
    "<!--NAVIGATION-->\n",
    "< [使用Seaborn进行可视化](04.14-Visualization-With-Seaborn.ipynb) | [目录](Index.ipynb) | [机器学习](05.00-Machine-Learning.ipynb) >\n",
    "\n",
    "<a href=\"https://colab.research.google.com/github/wangyingsm/Python-Data-Science-Handbook/blob/master/notebooks/04.15-Further-Resources.ipynb\"><img align=\"left\" src=\"https://colab.research.google.com/assets/colab-badge.svg\" alt=\"Open in Colab\" title=\"Open and Execute in Google Colaboratory\"></a>\n"
   ]
  },
  {
   "cell_type": "markdown",
   "metadata": {},
   "source": [
    "# Further Resources\n",
    "\n",
    "# 更多资源"
   ]
  },
  {
   "cell_type": "markdown",
   "metadata": {},
   "source": [
    "## Matplotlib Resources\n",
    "\n",
    "## Matplotlib 资源\n",
    "\n",
    "> A single chapter in a book can never hope to cover all the available features and plot types available in Matplotlib.\n",
    "As with other packages we've seen, liberal use of IPython's tab-completion and help functions (see [Help and Documentation in IPython](01.01-Help-And-Documentation.ipynb)) can be very helpful when exploring Matplotlib's API.\n",
    "In addition, Matplotlib’s [online documentation](http://matplotlib.org/) can be a helpful reference.\n",
    "See in particular the [Matplotlib gallery](http://matplotlib.org/gallery.html) linked on that page: it shows thumbnails of hundreds of different plot types, each one linked to a page with the Python code snippet used to generate it.\n",
    "In this way, you can visually inspect and learn about a wide range of different plotting styles and visualization techniques.\n",
    "\n",
    "本书中短短的一章内容不可能涵盖Matplotlib中所有的特性和图表类型。就像我们之前介绍到的其他工具一样，使用IPython的TAB自动补全以及帮助功能（参见[IPython的帮助和文档](01.01-Help-And-Documentation.ipynb)）对于学习Matplotlib的API是非常有帮助的。[Matplotlib在线文档](http://matplotlib.org/)也是一个很有帮助的参考内容。建议去浏览[Matplotlib画廊](http://matplotlib.org/gallery.html)：上面展示了上百个不同种类图表的缩略图，每个图都有一个超链接能导航到创建这个图表的Python代码片段页面。使用上述方法可以直观的浏览和学习许多不同类型的图表样式和可视化技巧。\n",
    "\n",
    "> For a book-length treatment of Matplotlib, I would recommend [*Interactive Applications Using Matplotlib*](https://www.packtpub.com/application-development/interactive-applications-using-matplotlib), written by Matplotlib core developer Ben Root.\n",
    "\n",
    "如果你需要阅读书籍，作者建议[*使用Matplotlib交互式应用*](https://www.packtpub.com/application-development/interactive-applications-using-matplotlib)，作者是Matplotlib的核心开发者Ben Root。"
   ]
  },
  {
   "cell_type": "markdown",
   "metadata": {},
   "source": [
    "## Other Python Graphics Libraries\n",
    "\n",
    "## 其他Python图像包\n",
    "\n",
    "> Although Matplotlib is the most prominent Python visualization library, there are other more modern tools that are worth exploring as well.\n",
    "I'll mention a few of them briefly here:\n",
    "\n",
    "> - [Bokeh](http://bokeh.pydata.org) is a JavaScript visualization library with a Python frontend that creates highly interactive visualizations capable of handling very large and/or streaming datasets. The Python front-end outputs a JSON data structure that can be interpreted by the Bokeh JS engine.\n",
    "> - [Plotly](http://plot.ly) is the eponymous open source product of the Plotly company, and is similar in spirit to Bokeh. Because Plotly is the main product of a startup, it is receiving a high level of development effort. Use of the library is entirely free.\n",
    "> - [Vispy](http://vispy.org/) is an actively developed project focused on dynamic visualizations of very large datasets. Because it is built to target OpenGL and make use of efficient graphics processors in your computer, it is able to render some quite large and stunning visualizations.\n",
    "> - [Vega](https://vega.github.io/) and [Vega-Lite](https://vega.github.io/vega-lite) are declarative graphics representations, and are the product of years of research into the fundamental language of data visualization. The reference rendering implementation is JavaScript, but the API is language agnostic. There is a Python API under development in the [Altair](https://altair-viz.github.io/) package. Though as of summer 2016 it's not yet fully mature, I'm quite excited for the possibilities of this project to provide a common reference point for visualization in Python and other languages.\n",
    "\n",
    "虽然Matplotlib在Python可视化库中是占统治地位的，但是还有很多其他更多现代的工具值得了解和学习。下面简单的介绍一下它们：\n",
    "\n",
    "- [Bokeh](http://bokeh.pydata.org)是一个在前端使用Python的JavaScript可视化库，能够创建高度交互的可视化图表处理大量和流式的数据集。Python前端会产生JSON数据结构然后交给Bokeh JS引擎进行解析处理。\n",
    "- [Plotly](http://plot.ly)是Plotly公司开发维护的一套同名产品，它的理念与Bokeh类似。因为Plotly是这间初创公司的主要产品，所以它正处于开发密集时期，使用这个库是完全免费的。\n",
    "- [Vispy](http://vispy.org/)是一个聚焦于大数据动态可视化的活跃项目。因为它的目标是支持OpenGL，并且有效地使用计算机的显卡资源，所以它能渲染一些非常巨大和炫目的可视化效果。\n",
    "- [Vega](https://vega.github.io/)和[Vega-Lite](https://vega.github.io/vega-lite)是陈述式的图形表达，提供了一个多年研究的数据可视化基础语言产品。渲染实现的基础是JavaScript，但是它的API是语言无关的。Vega有一个正在开发中的Python API叫做[Altair](https://altair-viz.github.io/)包。虽然在2016年夏天这个包还未完全成熟，但作者对于项目在为Python和其他语言提供通用的可视化功能取得的进展感到兴奋。\n",
    "\n",
    "> The visualization space in the Python community is very dynamic, and I fully expect this list to be out of date as soon as it is published.\n",
    "\n",
    "Python社区中数据可视化部分变化很快，作者估计上述的列表可能在本书出版的时候就已经显得过时了。\n",
    "\n",
    "> Keep an eye out for what's coming in the future!\n",
    "\n",
    "希望读者能保持对这个领域未来的关注。"
   ]
  },
  {
   "cell_type": "markdown",
   "metadata": {},
   "source": [
    "<!--NAVIGATION-->\n",
    "< [使用Seaborn进行可视化](04.14-Visualization-With-Seaborn.ipynb) | [目录](Index.ipynb) | [机器学习](05.00-Machine-Learning.ipynb) >\n",
    "\n",
    "<a href=\"https://colab.research.google.com/github/wangyingsm/Python-Data-Science-Handbook/blob/master/notebooks/04.15-Further-Resources.ipynb\"><img align=\"left\" src=\"https://colab.research.google.com/assets/colab-badge.svg\" alt=\"Open in Colab\" title=\"Open and Execute in Google Colaboratory\"></a>\n"
   ]
  }
 ],
 "metadata": {
  "kernelspec": {
   "display_name": "Python 3",
   "language": "python",
   "name": "python3"
  },
  "language_info": {
   "codemirror_mode": {
    "name": "ipython",
    "version": 3
   },
   "file_extension": ".py",
   "mimetype": "text/x-python",
   "name": "python",
   "nbconvert_exporter": "python",
   "pygments_lexer": "ipython3",
   "version": "3.7.6"
  }
 },
 "nbformat": 4,
 "nbformat_minor": 1
}
