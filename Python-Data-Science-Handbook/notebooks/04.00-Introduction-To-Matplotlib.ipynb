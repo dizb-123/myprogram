{
 "cells": [
  {
   "cell_type": "markdown",
   "metadata": {},
   "source": [
    "<!--NAVIGATION-->\n",
    "< [更多资源](03.13-Further-Resources.ipynb) | [目录](Index.ipynb) | [简单的折线图](04.01-Simple-Line-Plots.ipynb) >\n",
    "\n",
    "<a href=\"https://colab.research.google.com/github/wangyingsm/Python-Data-Science-Handbook/blob/master/notebooks/04.00-Introduction-To-Matplotlib.ipynb\"><img align=\"left\" src=\"https://colab.research.google.com/assets/colab-badge.svg\" alt=\"Open in Colab\" title=\"Open and Execute in Google Colaboratory\"></a>\n"
   ]
  },
  {
   "cell_type": "markdown",
   "metadata": {},
   "source": [
    "# Visualization with Matplotlib\n",
    "\n",
    "# 使用Matplotlib进行可视化"
   ]
  },
  {
   "cell_type": "markdown",
   "metadata": {},
   "source": [
    "> We'll now take an in-depth look at the Matplotlib package for visualization in Python.\n",
    "Matplotlib is a multi-platform data visualization library built on NumPy arrays, and designed to work with the broader SciPy stack.\n",
    "It was conceived by John Hunter in 2002, originally as a patch to IPython for enabling interactive MATLAB-style plotting via gnuplot from the IPython command line.\n",
    "IPython's creator, Fernando Perez, was at the time scrambling to finish his PhD, and let John know he wouldn’t have time to review the patch for several months.\n",
    "John took this as a cue to set out on his own, and the Matplotlib package was born, with version 0.1 released in 2003.\n",
    "It received an early boost when it was adopted as the plotting package of choice of the Space Telescope Science Institute (the folks behind the Hubble Telescope), which financially supported Matplotlib’s development and greatly expanded its capabilities.\n",
    "\n",
    "本章中我们会介绍在Python中使用Matplotlib包进行可视化的知识。Matplotlib是一个基于NumPy数组构建的多平台数据可视化程序库，在SciPy技术栈中被广泛使用。Matplotlib是John Hunter在2002年开始构思，最早时候是作为IPython的一个补充，通过gnuplot用来在IPython命令行中实现MATLAB风格的交互式的图表展示。IPython的作者Fernando Perez那时正在忙于完成他的博士学位，John意识到他可能在几个月内都无法抽出时间来检查这个补丁的代码。于是John决定将这个构思实现成独立的软件包，于是MatPlotlib诞生了，0.1版本发布于2003年。最早时候在空间望远镜研究院（也就是哈勃望远镜背后的工作小组）得到应用来绘图，从中获得了很大的推动力，研究院从经济上支持Matplotlib项目的发展并极大的扩展了其功能。\n",
    "\n",
    "> One of Matplotlib’s most important features is its ability to play well with many operating systems and graphics backends.\n",
    "Matplotlib supports dozens of backends and output types, which means you can count on it to work regardless of which operating system you are using or which output format you wish.\n",
    "This cross-platform, everything-to-everyone approach has been one of the great strengths of Matplotlib.\n",
    "It has led to a large user base, which in turn has led to an active developer base and Matplotlib’s powerful tools and ubiquity within the scientific Python world.\n",
    "\n",
    "Matplotlib最重要的特性之一就是它的对很多操作系统以及后端图形引擎的广泛支持。Matplotlib能在大量的图形引擎上工作并输出多种不同的格式，这意味着你可以认为无论使用哪种操作系统输出哪种格式，它都能良好工作。这种特性为Matplotlib带来了大量的用户基础，从而也吸引了活跃的开发者社区，使其发展称为在整个科学Python社区中无处不在的强大绘图工具。\n",
    "\n",
    "> In recent years, however, the interface and style of Matplotlib have begun to show their age.\n",
    "Newer tools like ggplot and ggvis in the R language, along with web visualization toolkits based on D3js and HTML5 canvas, often make Matplotlib feel clunky and old-fashioned.\n",
    "Still, I'm of the opinion that we cannot ignore Matplotlib's strength as a well-tested, cross-platform graphics engine.\n",
    "Recent Matplotlib versions make it relatively easy to set new global plotting styles (see [Customizing Matplotlib: Configurations and Style Sheets](04.11-Settings-and-Stylesheets.ipynb)), and people have been developing new packages that build on its powerful internals to drive Matplotlib via cleaner, more modern APIs—for example, Seaborn (discussed in [Visualization With Seaborn](04.14-Visualization-With-Seaborn.ipynb)), [ggpy](http://yhat.github.io/ggpy/), [HoloViews](http://holoviews.org/), [Altair](http://altair-viz.github.io/), and even Pandas itself can be used as wrappers around Matplotlib's API.\n",
    "Even with wrappers like these, it is still often useful to dive into Matplotlib's syntax to adjust the final plot output.\n",
    "For this reason, I believe that Matplotlib itself will remain a vital piece of the data visualization stack, even if new tools mean the community gradually moves away from using the Matplotlib API directly.\n",
    "\n",
    "然而最近几年，Matplotlib显得有点过时了。R语言中的ggplot和ggvis这些新工具广泛应用了类似D3js和HTML5画布这样的Web技术，让Matplotlib显得相形见绌。近来的Matplotlib版本将设置新的图表风格变得相对简单了一些（参见[自定义matplotlib：配置和样式单](04.11-Settings-and-Stylesheets.ipynb)），而且开发者在Matplotlib基础上开发了很多新的包，使得可视化过程能够通过更清晰和现代的API来实现，例如Seaborn（参见[使用Seaborn进行可视化](04.14-Visualization-With-Seaborn.ipynb)）、[ggpy](http://yhat.github.io/ggpy/)、[HoloViews](http://holoviews.org/)和[Altair](http://altair-viz.github.io/)，而且Pandas本身也提供了对Matplotlib的API封装。但是即使使用封装后的API，深入研究Matplotlib的语法对于更精细的调整图表的输出也是非常有帮助的。正因为如此，作者深信Matplotlib仍然会在数据可视化技术栈中占有不可或缺的地位，即使近期，社区已经逐步不再直接调用Matplotlib的API的情况下。"
   ]
  },
  {
   "cell_type": "markdown",
   "metadata": {},
   "source": [
    "## General Matplotlib Tips\n",
    "\n",
    "## 通用提示\n",
    "\n",
    "> Before we dive into the details of creating visualizations with Matplotlib, there are a few useful things you should know about using the package.\n",
    "\n",
    "在我们开始深入介绍使用Matplotlib进行可视化之前，有一些使用该软件包的基本知识需要了解。"
   ]
  },
  {
   "cell_type": "markdown",
   "metadata": {},
   "source": [
    "### Importing Matplotlib\n",
    "\n",
    "### 载入Matplotlib\n",
    "\n",
    "> Just as we use the ``np`` shorthand for NumPy and the ``pd`` shorthand for Pandas, we will use some standard shorthands for Matplotlib imports:\n",
    "\n",
    "NumPy的载入使用惯例别名`np`，Pandas的载入使用惯例别名`pd`，下面是载入Matplotlib的惯例别名："
   ]
  },
  {
   "cell_type": "code",
   "execution_count": 1,
   "metadata": {},
   "outputs": [],
   "source": [
    "import matplotlib as mpl\n",
    "import matplotlib.pyplot as plt"
   ]
  },
  {
   "cell_type": "markdown",
   "metadata": {},
   "source": [
    "> The ``plt`` interface is what we will use most often, as we shall see throughout this chapter.\n",
    "\n",
    "`plt`是我们最常用的模块，本章中我们会一直看到它。"
   ]
  },
  {
   "cell_type": "markdown",
   "metadata": {},
   "source": [
    "### Setting Styles\n",
    "\n",
    "### 设置风格\n",
    "\n",
    "> We will use the ``plt.style`` directive to choose appropriate aesthetic styles for our figures.\n",
    "Here we will set the ``classic`` style, which ensures that the plots we create use the classic Matplotlib style:\n",
    "\n",
    "使用`plt.style`属性用来给我们的图表设置视觉的风格。下面我们设置使用`classic`风格，这让我们之后的图表都会保持使用经典Matplotlib风格："
   ]
  },
  {
   "cell_type": "code",
   "execution_count": 2,
   "metadata": {},
   "outputs": [],
   "source": [
    "plt.style.use('classic')"
   ]
  },
  {
   "cell_type": "markdown",
   "metadata": {},
   "source": [
    "> Throughout this section, we will adjust this style as needed.\n",
    "Note that the stylesheets used here are supported as of Matplotlib version 1.5; if you are using an earlier version of Matplotlib, only the default style is available.\n",
    "For more information on stylesheets, see [Customizing Matplotlib: Configurations and Style Sheets](04.11-Settings-and-Stylesheets.ipynb).\n",
    "\n",
    "在本章中，我们会根据需要调整风格设置。这里要说明的是，只有Matplotlib 1.5及之后的版本支持风格设置；如果你在使用更早期的版本，那么Matplotlib只能使用默认风格。要获取关于样式单的更多内容，参见[自定义matplotlib：配置和样式单](04.11-Settings-and-Stylesheets.ipynb)。"
   ]
  },
  {
   "cell_type": "markdown",
   "metadata": {},
   "source": [
    "### ``show()`` or No ``show()``? How to Display Your Plots\n",
    "\n",
    "### `show()` 或是不要 `show()` ？如何显示你的图表"
   ]
  },
  {
   "cell_type": "markdown",
   "metadata": {},
   "source": [
    "> A visualization you can't see won't be of much use, but just how you view your Matplotlib plots depends on the context.\n",
    "The best use of Matplotlib differs depending on how you are using it; roughly, the three applicable contexts are using Matplotlib in a script, in an IPython terminal, or in an IPython notebook.\n",
    "\n",
    "一张你看不到的图表不会有什么用处，但是显示图表的方法根据使用环境会有所不同。Matplotlib的最佳实践取决于你在什么环境中使用它；通常有三种应用场景，在脚本文件中使用，在IPython终端中使用以及在IPython notebook中使用。"
   ]
  },
  {
   "cell_type": "markdown",
   "metadata": {},
   "source": [
    "#### Plotting from a script\n",
    "\n",
    "#### 在脚本文件中作图\n",
    "\n",
    "> If you are using Matplotlib from within a script, the function ``plt.show()`` is your friend.\n",
    "``plt.show()`` starts an event loop, looks for all currently active figure objects, and opens one or more interactive windows that display your figure or figures.\n",
    "\n",
    "如果你是在脚本文件中使用Matplotlib，`plt.show()`是你显示图表的函数。`plt.show()`会启动一个事件循环，找到所有激活的图表对象，然后打开一个或多个交互的窗口来显示你的图表。\n",
    "\n",
    "> So, for example, you may have a file called *myplot.py* containing the following:\n",
    "\n",
    "因此，假设你有一个*myplot.py*文件包含以下代码：\n",
    "\n",
    "```python\n",
    "# ------- file: myplot.py ------\n",
    "import matplotlib.pyplot as plt\n",
    "import numpy as np\n",
    "\n",
    "x = np.linspace(0, 10, 100)\n",
    "\n",
    "plt.plot(x, np.sin(x))\n",
    "plt.plot(x, np.cos(x))\n",
    "\n",
    "plt.show()\n",
    "```\n",
    "\n",
    "> You can then run this script from the command-line prompt, which will result in a window opening with your figure displayed:\n",
    "\n",
    "你可以在命令行中运行这个脚本文件，运行结果会打开一个窗口里面显示你设置的图表：\n",
    "\n",
    "```bash\n",
    "$ python myplot.py\n",
    "```\n",
    "\n",
    "> The ``plt.show()`` command does a lot under the hood, as it must interact with your system's interactive graphical backend.\n",
    "The details of this operation can vary greatly from system to system and even installation to installation, but matplotlib does its best to hide all these details from you.\n",
    "\n",
    "`plt.show()`函数在底层做了许多工作，因为它需要和你系统的交互式图形引擎通信。这个操作的细节根据系统不同甚至不同安装方式会有区别，Matplotlib尽最大可能为用户屏蔽了这些底层实现细节。\n",
    "\n",
    "> One thing to be aware of: the ``plt.show()`` command should be used *only once* per Python session, and is most often seen at the very end of the script.\n",
    "Multiple ``show()`` commands can lead to unpredictable backend-dependent behavior, and should mostly be avoided.\n",
    "\n",
    "还要提醒一下：`plt.show()`函数在每个Python会话中*仅能使用一次*，最常见的情况就是在脚本的末尾使用它。多次调用`show()`函数会导致不可预料的结果，应该避免。"
   ]
  },
  {
   "cell_type": "markdown",
   "metadata": {},
   "source": [
    "#### Plotting from an IPython shell\n",
    "\n",
    "#### 在IPython终端中作图\n",
    "\n",
    "> It can be very convenient to use Matplotlib interactively within an IPython shell (see [IPython: Beyond Normal Python](01.00-IPython-Beyond-Normal-Python.ipynb)).\n",
    "IPython is built to work well with Matplotlib if you specify Matplotlib mode.\n",
    "To enable this mode, you can use the ``%matplotlib`` magic command after starting ``ipython``:\n",
    "\n",
    "在IPython终端（参见[IPython：超越Python解释器](01.00-IPython-Beyond-Normal-Python.ipynb)）中交互式使用Matplotlib是非常方便的。IPython内建有支持Matplotlib的模式。要激活这个模式，你只需要在IPython终端输入`%matplotlib`魔术指令即可：\n",
    "\n",
    "```python\n",
    "In [1]: %matplotlib\n",
    "Using matplotlib backend: TkAgg\n",
    "\n",
    "In [2]: import matplotlib.pyplot as plt\n",
    "```\n",
    "\n",
    "> At this point, any ``plt`` plot command will cause a figure window to open, and further commands can be run to update the plot.\n",
    "Some changes (such as modifying properties of lines that are already drawn) will not draw automatically: to force an update, use ``plt.draw()``.\n",
    "Using ``plt.show()`` in Matplotlib mode is not required.\n",
    "\n",
    "这之后任何`plt`的作图命令都会打开一个窗口包含作出的图表，后续运行的命令还能更新图表。某些改变（例如修改已经画好的线条的属性）不会自动更新，这时可以使用`plt.draw()`来强制更新窗口。在Matplotlib模式下是不需要使用`plt.show()`的。"
   ]
  },
  {
   "cell_type": "markdown",
   "metadata": {},
   "source": [
    "#### Plotting from an IPython notebook\n",
    "\n",
    "#### 在IPython notebook中作图\n",
    "\n",
    "> The IPython notebook is a browser-based interactive data analysis tool that can combine narrative, code, graphics, HTML elements, and much more into a single executable document (see [IPython: Beyond Normal Python](01.00-IPython-Beyond-Normal-Python.ipynb)).\n",
    "\n",
    "IPython notebook是一个基于浏览器的交互式开发工具，能将说明、代码、图像、HTML和其他内容都合成在一个可执行文档中（参见[IPython：超越Python解释器](01.00-IPython-Beyond-Normal-Python.ipynb)）。\n",
    "\n",
    "> Plotting interactively within an IPython notebook can be done with the ``%matplotlib`` command, and works in a similar way to the IPython shell.\n",
    "In the IPython notebook, you also have the option of embedding graphics directly in the notebook, with two possible options:\n",
    "\n",
    "> - ``%matplotlib notebook`` will lead to *interactive* plots embedded within the notebook\n",
    "> - ``%matplotlib inline`` will lead to *static* images of your plot embedded in the notebook\n",
    "\n",
    "在IPython notebook中交互式的作图也可以使用`%matplotlib`魔术指令，其工作方式类似于在IPython终端中一样。而且在IPython notebook中，你还可以通过指定该魔术指令的参数让作出的图直接在内联在notebook中显示。两个参数可以指定不同的作图模式：\n",
    "\n",
    "- `%matplotlib notebook`：在notebook中作出具有交互控制功能的内联图表\n",
    "- `%matplotlib inline`： 在notebook中作出*静态*内联图表\n",
    "\n",
    "> For this book, we will generally opt for ``%matplotlib inline``:\n",
    "\n",
    "本书中，我们通常使用`%matplotlib inline`："
   ]
  },
  {
   "cell_type": "code",
   "execution_count": 3,
   "metadata": {},
   "outputs": [],
   "source": [
    "%matplotlib inline"
   ]
  },
  {
   "cell_type": "markdown",
   "metadata": {},
   "source": [
    "> After running this command (it needs to be done only once per kernel/session), any cell within the notebook that creates a plot will embed a PNG image of the resulting graphic:\n",
    "\n",
    "运行了这条魔术指令后（只需要在每个jupyter内核中运行一次即可），后续notebook中任何创建图表的代码都会输出一个内嵌的PNG图像，作出图表："
   ]
  },
  {
   "cell_type": "code",
   "execution_count": 4,
   "metadata": {},
   "outputs": [
    {
     "data": {
      "image/png": "[encoded data removed]",
      "text/plain": [
       "<Figure size 432x288 with 1 Axes>"
      ]
     },
     "metadata": {
      "needs_background": "light"
     },
     "output_type": "display_data"
    }
   ],
   "source": [
    "import numpy as np\n",
    "x = np.linspace(0, 10, 100)\n",
    "\n",
    "fig = plt.figure()\n",
    "plt.plot(x, np.sin(x), '-')\n",
    "plt.plot(x, np.cos(x), '--');"
   ]
  },
  {
   "cell_type": "markdown",
   "metadata": {},
   "source": [
    "### Saving Figures to File\n",
    "\n",
    "### 将图表保存到文件\n",
    "\n",
    "> One nice feature of Matplotlib is the ability to save figures in a wide variety of formats.\n",
    "Saving a figure can be done using the ``savefig()`` command.\n",
    "For example, to save the previous figure as a PNG file, you can run this:\n",
    "\n",
    "Matplotlib还有一个非常棒的功能，那就是将图表保存成很多种不同的文件格式。保存图表可以通过`savefig()`函数实现。例如，如果我们需要将上面的图表保存成一个PNG文件，只需要执行下面的代码："
   ]
  },
  {
   "cell_type": "code",
   "execution_count": 5,
   "metadata": {},
   "outputs": [],
   "source": [
    "fig.savefig('my_figure.png')"
   ]
  },
  {
   "cell_type": "markdown",
   "metadata": {},
   "source": [
    "> We now have a file called ``my_figure.png`` in the current working directory:\n",
    "\n",
    "然后在当前工作目录下就可以看到这个文件："
   ]
  },
  {
   "cell_type": "code",
   "execution_count": 6,
   "metadata": {},
   "outputs": [
    {
     "name": "stdout",
     "output_type": "stream",
     "text": [
      "-rw-rw-r-- 1 wangy wangy 26K 12月  6 15:47 my_figure.png\r\n"
     ]
    }
   ],
   "source": [
    "!ls -lh my_figure.png"
   ]
  },
  {
   "cell_type": "markdown",
   "metadata": {},
   "source": [
    "> To confirm that it contains what we think it contains, let's use the IPython ``Image`` object to display the contents of this file:\n",
    "\n",
    "我们可以使用IPython的`Image`对象将这个图像文件显示出来，验证一下保存的文件是否和图表一致："
   ]
  },
  {
   "cell_type": "code",
   "execution_count": 7,
   "metadata": {},
   "outputs": [
    {
     "data": {
      "image/png": "[encoded data removed]",
      "text/plain": [
       "<IPython.core.display.Image object>"
      ]
     },
     "execution_count": 7,
     "metadata": {},
     "output_type": "execute_result"
    }
   ],
   "source": [
    "from IPython.display import Image\n",
    "Image('my_figure.png')"
   ]
  },
  {
   "cell_type": "markdown",
   "metadata": {},
   "source": [
    "> In ``savefig()``, the file format is inferred from the extension of the given filename.\n",
    "Depending on what backends you have installed, many different file formats are available.\n",
    "The list of supported file types can be found for your system by using the following method of the figure canvas object:\n",
    "\n",
    "在`savefig()`函数中，保存文件的格式是通过文件的扩展名决定的。根据系统的图形引擎不同，支持的文件格式略有不同。你可以通过下面的代码列出系统支持的所有文件格式："
   ]
  },
  {
   "cell_type": "code",
   "execution_count": 8,
   "metadata": {},
   "outputs": [
    {
     "data": {
      "text/plain": [
       "{'ps': 'Postscript',\n",
       " 'eps': 'Encapsulated Postscript',\n",
       " 'pdf': 'Portable Document Format',\n",
       " 'pgf': 'PGF code for LaTeX',\n",
       " 'png': 'Portable Network Graphics',\n",
       " 'raw': 'Raw RGBA bitmap',\n",
       " 'rgba': 'Raw RGBA bitmap',\n",
       " 'svg': 'Scalable Vector Graphics',\n",
       " 'svgz': 'Scalable Vector Graphics',\n",
       " 'jpg': 'Joint Photographic Experts Group',\n",
       " 'jpeg': 'Joint Photographic Experts Group',\n",
       " 'tif': 'Tagged Image File Format',\n",
       " 'tiff': 'Tagged Image File Format'}"
      ]
     },
     "execution_count": 8,
     "metadata": {},
     "output_type": "execute_result"
    }
   ],
   "source": [
    "fig.canvas.get_supported_filetypes()"
   ]
  },
  {
   "cell_type": "markdown",
   "metadata": {},
   "source": [
    "> Note that when saving your figure, it's not necessary to use ``plt.show()`` or related commands discussed earlier.\n",
    "\n",
    "注意当你保存图表的时候，是不需要使用`plt.show()`或类似的显示图表命令的。"
   ]
  },
  {
   "cell_type": "markdown",
   "metadata": {},
   "source": [
    "## Two Interfaces for the Price of One\n",
    "\n",
    "## 两套不同接口\n",
    "\n",
    "> A potentially confusing feature of Matplotlib is its dual interfaces: a convenient MATLAB-style state-based interface, and a more powerful object-oriented interface. We'll quickly highlight the differences between the two here.\n",
    "\n",
    "Matplotlib一个很令人迷惑的地方是它具有两套接口：一套是很方便的MATLAB风格的接口，还有一套是更强大的面向对象的接口。我们在这里简单的介绍一下它们的区别。"
   ]
  },
  {
   "cell_type": "markdown",
   "metadata": {},
   "source": [
    "#### MATLAB-style Interface\n",
    "\n",
    "#### MATLAB 风格接口\n",
    "\n",
    "> Matplotlib was originally written as a Python alternative for MATLAB users, and much of its syntax reflects that fact.\n",
    "The MATLAB-style tools are contained in the pyplot (``plt``) interface.\n",
    "For example, the following code will probably look quite familiar to MATLAB users:\n",
    "\n",
    "Matplotlib最早是用来为MATLAB用户提供一套Python环境下的替代品，因此很多的语法反映了这一点。MATLAB风格的接口（函数）都封装在pyplot（`plt`）模块中。例如，下面的代码对于MATLAB用户来说不会陌生："
   ]
  },
  {
   "cell_type": "code",
   "execution_count": 9,
   "metadata": {},
   "outputs": [
    {
     "data": {
      "image/png": "[encoded data removed]",
      "text/plain": [
       "<Figure size 432x288 with 2 Axes>"
      ]
     },
     "metadata": {
      "needs_background": "light"
     },
     "output_type": "display_data"
    }
   ],
   "source": [
    "plt.figure()  # 创建图表\n",
    "\n",
    "# 创建上面第一行的子图表，并设置x，y轴的数据\n",
    "plt.subplot(2, 1, 1) # (行、列、子图表序号)\n",
    "plt.plot(x, np.sin(x))\n",
    "\n",
    "# 创建下面第二行的子图表，并设置x，y轴的数据\n",
    "plt.subplot(2, 1, 2)\n",
    "plt.plot(x, np.cos(x));"
   ]
  },
  {
   "cell_type": "markdown",
   "metadata": {},
   "source": [
    "> It is important to note that this interface is *stateful*: it keeps track of the \"current\" figure and axes, which are where all ``plt`` commands are applied.\n",
    "You can get a reference to these using the ``plt.gcf()`` (get current figure) and ``plt.gca()`` (get current axes) routines.\n",
    "\n",
    "需要提醒的是这套接口是*有状态*的：它会持续保持着*当前的*图表和维度，无论那个`plt`命令改变了它。你可以通过`glt.gcf()`和`plt.gca()`函数获得图表和维度的引用。\n",
    "\n",
    "> While this stateful interface is fast and convenient for simple plots, it is easy to run into problems.\n",
    "For example, once the second panel is created, how can we go back and add something to the first?\n",
    "This is possible within the MATLAB-style interface, but a bit clunky.\n",
    "Fortunately, there is a better way.\n",
    "\n",
    "虽然这种有状态的接口在创建简单图表时非常快速和方便，但是也存在问题。例如，当第二个子图表创建了之后，我们如何回去在第一个子图表中增加内容呢？虽然在MATLAB风格接口中也可以实现，但是非常别扭。幸运的是，我们有更好的办法。"
   ]
  },
  {
   "cell_type": "markdown",
   "metadata": {},
   "source": [
    "#### Object-oriented interface\n",
    "\n",
    "#### 面向对象接口\n",
    "\n",
    "> The object-oriented interface is available for these more complicated situations, and for when you want more control over your figure.\n",
    "Rather than depending on some notion of an \"active\" figure or axes, in the object-oriented interface the plotting functions are *methods* of explicit ``Figure`` and ``Axes`` objects.\n",
    "To re-create the previous plot using this style of plotting, you might do the following:\n",
    "\n",
    "面向对象接口更适合于这种复杂的场景和你需要对图表更多控制权的场景。与其依赖于“当前活跃的”图表和维度，面向对象接口提供的是具体`Figure`和`Axes`对象的方法。采用这种接口重新创建上面的图表的代码如下："
   ]
  },
  {
   "cell_type": "code",
   "execution_count": 10,
   "metadata": {},
   "outputs": [
    {
     "data": {
      "image/png": "[encoded data removed]",
      "text/plain": [
       "<Figure size 432x288 with 2 Axes>"
      ]
     },
     "metadata": {
      "needs_background": "light"
     },
     "output_type": "display_data"
    }
   ],
   "source": [
    "# 首先创建两个子图表\n",
    "# 返回值fig是两个子Figure对象，ax是两个子Axes对象\n",
    "fig, ax = plt.subplots(2)\n",
    "\n",
    "# 在两个不同的Axes对象上调用plot方法分别作图\n",
    "ax[0].plot(x, np.sin(x))\n",
    "ax[1].plot(x, np.cos(x));"
   ]
  },
  {
   "cell_type": "markdown",
   "metadata": {},
   "source": [
    "> For more simple plots, the choice of which style to use is largely a matter of preference, but the object-oriented approach can become a necessity as plots become more complicated.\n",
    "Throughout this chapter, we will switch between the MATLAB-style and object-oriented interfaces, depending on what is most convenient.\n",
    "In most cases, the difference is as small as switching ``plt.plot()`` to ``ax.plot()``, but there are a few gotchas that we will highlight as they come up in the following sections.\n",
    "\n",
    "对于简单的图表来说，采用哪种风格的接口作图取决于个人喜好，但是对于复杂的图表来说，面向对象接口是必须的。在本章中，我们会在两者之间进行切换，依据哪样方式更加方便来决定。在大多数情况下，`plt.plot()`切换到`ax.plot()`之间的区别会很小，但是里面会有些坑，我们会在后续小节中着重指出。"
   ]
  },
  {
   "cell_type": "markdown",
   "metadata": {},
   "source": [
    "<!--NAVIGATION-->\n",
    "< [更多资源](03.13-Further-Resources.ipynb) | [目录](Index.ipynb) | [简单的折线图](04.01-Simple-Line-Plots.ipynb) >\n",
    "\n",
    "<a href=\"https://colab.research.google.com/github/wangyingsm/Python-Data-Science-Handbook/blob/master/notebooks/04.00-Introduction-To-Matplotlib.ipynb\"><img align=\"left\" src=\"https://colab.research.google.com/assets/colab-badge.svg\" alt=\"Open in Colab\" title=\"Open and Execute in Google Colaboratory\"></a>\n"
   ]
  }
 ],
 "metadata": {
  "anaconda-cloud": {},
  "kernelspec": {
   "display_name": "Python 3",
   "language": "python",
   "name": "python3"
  },
  "language_info": {
   "codemirror_mode": {
    "name": "ipython",
    "version": 3
   },
   "file_extension": ".py",
   "mimetype": "text/x-python",
   "name": "python",
   "nbconvert_exporter": "python",
   "pygments_lexer": "ipython3",
   "version": "3.7.6"
  }
 },
 "nbformat": 4,
 "nbformat_minor": 1
}
