{
 "cells": [
  {
   "cell_type": "markdown",
   "metadata": {},
   "source": [
    "<!--NAVIGATION-->\n",
    "< [应用：脸部识别管道](05.14-Image-Features.ipynb) | [目录](Index.ipynb) | [附录：生成图像的代码](06.00-Figure-Code.ipynb) >\n",
    "\n",
    "<a href=\"https://colab.research.google.com/github/wangyingsm/Python-Data-Science-Handbook/blob/master/notebooks/05.15-Learning-More.ipynb\"><img align=\"left\" src=\"https://colab.research.google.com/assets/colab-badge.svg\" alt=\"Open in Colab\" title=\"Open and Execute in Google Colaboratory\"></a>\n"
   ]
  },
  {
   "cell_type": "markdown",
   "metadata": {},
   "source": [
    "# Further Machine Learning Resources\n",
    "\n",
    "# 更多机器学习资源"
   ]
  },
  {
   "cell_type": "markdown",
   "metadata": {},
   "source": [
    "> This chapter has been a quick tour of machine learning in Python, primarily using the tools within the Scikit-Learn library.\n",
    "As long as the chapter is, it is still too short to cover many interesting and important algorithms, approaches, and discussions.\n",
    "Here I want to suggest some resources to learn more about machine learning for those who are interested.\n",
    "\n",
    "本章对Python中的机器学习进行了一个快速简要的介绍，主要是使用Scikit-Learn库中的工具来完成机器学习任务。尽管本章内容较长，但依然不足以覆盖很多有趣及重要的算法、方法和讨论。这里作者会推荐一些额外的资源，希望对那些有兴趣了解更多机器学习知识的读者有帮助。"
   ]
  },
  {
   "cell_type": "markdown",
   "metadata": {},
   "source": [
    "## Machine Learning in Python\n",
    "\n",
    "## Python机器学习\n",
    "\n",
    "> To learn more about machine learning in Python, I'd suggest some of the following resources:\n",
    "\n",
    ">- [The Scikit-Learn website](http://scikit-learn.org): The Scikit-Learn website has an impressive breadth of documentation and examples covering some of the models discussed here, and much, much more. If you want a brief survey of the most important and often-used machine learning algorithms, this website is a good place to start.\n",
    "- *SciPy, PyCon, and PyData tutorial videos*: Scikit-Learn and other machine learning topics are perennial favorites in the tutorial tracks of many Python-focused conference series, in particular the PyCon, SciPy, and PyData conferences. You can find the most recent ones via a simple web search.\n",
    "- [*Introduction to Machine Learning with Python*](http://shop.oreilly.com/product/0636920030515.do): Written by Andreas C. Mueller and Sarah Guido, this book includes a fuller treatment of the topics in this chapter. If you're interested in reviewing the fundamentals of Machine Learning and pushing the Scikit-Learn toolkit to its limits, this is a great resource, written by one of the most prolific developers on the Scikit-Learn team.\n",
    "- [*Python Machine Learning*](https://www.packtpub.com/big-data-and-business-intelligence/python-machine-learning): Sebastian Raschka's book focuses less on Scikit-learn itself, and more on the breadth of machine learning tools available in Python. In particular, there is some very useful discussion on how to scale Python-based machine learning approaches to large and complex datasets.\n",
    "\n",
    "要学习更多Python机器学习的内容，作者推荐下面的资源：\n",
    "\n",
    "- [Scikit-Learn官网](http://scikit-learn.org)：Scikit-Learn官网有许多文档和例子，涵盖了一些我们本章介绍的内容，和更多未及阐述的知识。如果你想要获得最重要和常用的机器学习算法简介，这将是旅程的起点。\n",
    "- [*Python机器学习介绍*](http://shop.oreilly.com/product/0636920030515.do)：作者Andreas C. Mueller和Sarah Guido，这本书包含了本章内容更加完整的解决方案。如果你想要复习机器学习的基本概念算法以及最深入地掌握Scikit-Learn工具集的话，这本书非常合适，其中一个作者是Scikit-Learn开发团队中最主要的贡献者之一。\n",
    "- [*Python机器学习*](https://www.packtpub.com/big-data-and-business-intelligence/python-machine-learning)：作者Sebastian Raschka，本书较少聚焦在Scikit-Learn工具集，而是更多广泛地介绍使用Python的机器学习工具。确切的说，书中有着许多关于扩展Python机器学习方法适应大型复杂数据集的介绍。"
   ]
  },
  {
   "cell_type": "markdown",
   "metadata": {},
   "source": [
    "## General Machine Learning\n",
    "\n",
    "## 通用机器学习\n",
    "\n",
    "> Of course, machine learning is much broader than just the Python world. There are many good resources to take your knowledge further, and here I will highlight a few that I have found useful:\n",
    "\n",
    "> - [*Machine Learning*](https://www.coursera.org/learn/machine-learning): Taught by Andrew Ng (Coursera), this is a very clearly-taught free online course which covers the basics of machine learning from an algorithmic perspective. It assumes undergraduate-level understanding of mathematics and programming, and steps through detailed considerations of some of the most important machine learning algorithms. Homework assignments, which are algorithmically graded, have you actually implement some of these models yourself.\n",
    "- [*Pattern Recognition and Machine Learning*](http://www.springer.com/us/book/9780387310732): Written by Christopher Bishop, this classic technical text covers the concepts of machine learning discussed in this chapter in detail. If you plan to go further in this subject, you should have this book on your shelf.\n",
    "- [*Machine Learning: a Probabilistic Perspective*](https://mitpress.mit.edu/books/machine-learning-0): Written by Kevin Murphy, this is an excellent graduate-level text that explores nearly all important machine learning algorithms from a ground-up, unified probabilistic perspective.\n",
    "\n",
    "当然，机器学习的范围远远超越了Python语言本身。有许多资源能让你学习到更广泛更深入的知识，作者这里推荐以下他认为非常有用的资源：\n",
    "\n",
    "- [*Machine Learning*](https://www.coursera.org/learn/machine-learning)：Andrew Ng授课，这是一个非常出色在线免费课程，涵盖了从机器学习基础到算法分析。它默认听众具有大学本科的数学和编程基础，然后一步一步的对一些最重要的机器学习算法进行了详细的介绍。课程还有作业，与算法相关，让听众自己能真正实现一些模型算法。\n",
    "- [*模式识别与机器学习*](http://www.springer.com/us/book/9780387310732)：作者Christopher Bishop，这本经典的技术书籍详细地介绍了本章讨论的机器学习概念。如果你希望深入研究本章介绍的内容，应该阅读本书。\n",
    "- [*机器学习：概率视角*](https://mitpress.mit.edu/books/machine-learning-0)：作者Kevin Murphy，这是一本优秀的书籍，联系概率论知识从零开始探讨了几乎所有重要的机器学习算法，适合研究生以上阅读。\n",
    "\n",
    "> These resources are more technical than the material presented in this book, but to really understand the fundamentals of these methods requires a deep dive into the mathematics behind them.\n",
    "If you're up for the challenge and ready to bring your data science to the next level, don't hesitate to dive-in!\n",
    "\n",
    "这些资源与本书比较起来技术性更强，但是需要更加深入的掌握算法背后的数学知识才能真正理解这些方法的意义。如果你已经准备好了挑战更高层次的数据科学领域，不要犹豫，去掌握它们吧。"
   ]
  },
  {
   "cell_type": "markdown",
   "metadata": {},
   "source": [
    "<!--NAVIGATION-->\n",
    "< [应用：脸部识别管道](05.14-Image-Features.ipynb) | [目录](Index.ipynb) | [附录：生成图像的代码](06.00-Figure-Code.ipynb) >\n",
    "\n",
    "<a href=\"https://colab.research.google.com/github/wangyingsm/Python-Data-Science-Handbook/blob/master/notebooks/05.15-Learning-More.ipynb\"><img align=\"left\" src=\"https://colab.research.google.com/assets/colab-badge.svg\" alt=\"Open in Colab\" title=\"Open and Execute in Google Colaboratory\"></a>\n"
   ]
  }
 ],
 "metadata": {
  "anaconda-cloud": {},
  "kernelspec": {
   "display_name": "Python 3",
   "language": "python",
   "name": "python3"
  },
  "language_info": {
   "codemirror_mode": {
    "name": "ipython",
    "version": 3
   },
   "file_extension": ".py",
   "mimetype": "text/x-python",
   "name": "python",
   "nbconvert_exporter": "python",
   "pygments_lexer": "ipython3",
   "version": "3.7.6"
  }
 },
 "nbformat": 4,
 "nbformat_minor": 1
}
