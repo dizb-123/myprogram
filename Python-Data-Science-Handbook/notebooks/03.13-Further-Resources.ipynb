{
 "cells": [
  {
   "cell_type": "markdown",
   "metadata": {},
   "source": [
    "<!--NAVIGATION-->\n",
    "< [高性能Pandas: eval() 和 query()](03.12-Performance-Eval-and-Query.ipynb) | [目录](Index.ipynb) | [使用matplotlib展示数据](04.00-Introduction-To-Matplotlib.ipynb) >\n",
    "\n",
    "<a href=\"https://colab.research.google.com/github/wangyingsm/Python-Data-Science-Handbook/blob/master/notebooks/03.13-Further-Resources.ipynb\"><img align=\"left\" src=\"https://colab.research.google.com/assets/colab-badge.svg\" alt=\"Open in Colab\" title=\"Open and Execute in Google Colaboratory\"></a>\n"
   ]
  },
  {
   "cell_type": "markdown",
   "metadata": {},
   "source": [
    "# Further Resources\n",
    "\n",
    "# 更多资源"
   ]
  },
  {
   "cell_type": "markdown",
   "metadata": {},
   "source": [
    "> In this chapter, we've covered many of the basics of using Pandas effectively for data analysis.\n",
    "Still, much has been omitted from our discussion.\n",
    "To learn more about Pandas, I recommend the following resources:\n",
    "\n",
    "> - [Pandas online documentation](http://pandas.pydata.org/): This is the go-to source for complete documentation of the package. While the examples in the documentation tend to be small generated datasets, the description of the options is complete and generally very useful for understanding the use of various functions.\n",
    "\n",
    "> - [*Python for Data Analysis*](http://shop.oreilly.com/product/0636920023784.do) Written by Wes McKinney (the original creator of Pandas), this book contains much more detail on the Pandas package than we had room for in this chapter. In particular, he takes a deep dive into tools for time series, which were his bread and butter as a financial consultant. The book also has many entertaining examples of applying Pandas to gain insight from real-world datasets. Keep in mind, though, that the book is now several years old, and the Pandas package has quite a few new features that this book does not cover (but be on the lookout for a new edition in 2017).\n",
    "\n",
    "> - [Stack Overflow](http://stackoverflow.com/questions/tagged/pandas): Pandas has so many users that any question you have has likely been asked and answered on Stack Overflow. Using Pandas is a case where some Google-Fu is your best friend. Simply go to your favorite search engine and type in the question, problem, or error you're coming across–more than likely you'll find your answer on a Stack Overflow page.\n",
    "\n",
    "> - [Pandas on PyVideo](http://pyvideo.org/search?q=pandas): From PyCon to SciPy to PyData, many conferences have featured tutorials from Pandas developers and power users. The PyCon tutorials in particular tend to be given by very well-vetted presenters.\n",
    "\n",
    "> Using these resources, combined with the walk-through given in this chapter, my hope is that you'll be poised to use Pandas to tackle any data analysis problem you come across!"
   ]
  },
  {
   "cell_type": "markdown",
   "metadata": {},
   "source": [
    "在本章中，我们介绍了许多使用Pandas有效进行数据分析的基础知识。但是显然还有很多内容没有讨论到，需要学习更多有关Pandas的内容，作者建议阅读下面的资源：\n",
    "\n",
    "- [Pandas在线文档](http://pandas.pydata.org/)：Pandas包最完整的文档来源。虽然文档中的例子基本上都是一些生成的小数据集，但是里面的参数说明是很完整的，而且通常对于理解使用Pandas的函数和方法是非常有帮助的。\n",
    "- [*Python for Data Analysis*](http://shop.oreilly.com/product/0636920023784.do)：作者Wes McKinney（Pandas的创始人），这本书包括了很多Pandas的详尽资料。特别是对于时间序列数据的处理，本书进行了深入的介绍，这对于经济学的分析是非常有帮助的。本书也有很多在真实世界数据中应用Pandas的有趣例子。不过此书已经出版有几年时间了，因此近几年Pandas提供的新特性都没有包括其中，不过我们可以期待本书2017年的新版。\n",
    "- [Stack Overflow](http://stackoverflow.com/questions/tagged/pandas)：Pandas有着许多的用户，因此你遇到的问题很可能在Stack Overflow网站上已经有人问过和解答了。当然谷歌大法也是你的好朋友（译者注：度娘大法就免了）。去搜索引擎输入你的问题或错误，很可能谷歌就会将你导向到Stack Overflow的答案。\n",
    "- [PyVideo上的Pandas视频](http://pyvideo.org/search?q=pandas)：从PyCon到SciPy再到PyData，很多研讨会都有关于Pandas的教程和专题。特别是PyCon上面有很多知名开发者做的教程和专题讨论。\n",
    "\n",
    "结合本章介绍的内容，加上上面的资源，读者应该能够获得足够的帮助用来解决使用Pandas处理数据分析的所有问题。"
   ]
  },
  {
   "cell_type": "markdown",
   "metadata": {},
   "source": [
    "<!--NAVIGATION-->\n",
    "< [高性能Pandas: eval() 和 query()](03.12-Performance-Eval-and-Query.ipynb) | [目录](Index.ipynb) | [使用matplotlib展示数据](04.00-Introduction-To-Matplotlib.ipynb) >\n",
    "\n",
    "<a href=\"https://colab.research.google.com/github/wangyingsm/Python-Data-Science-Handbook/blob/master/notebooks/03.13-Further-Resources.ipynb\"><img align=\"left\" src=\"https://colab.research.google.com/assets/colab-badge.svg\" alt=\"Open in Colab\" title=\"Open and Execute in Google Colaboratory\"></a>\n"
   ]
  }
 ],
 "metadata": {
  "anaconda-cloud": {},
  "kernelspec": {
   "display_name": "Python 3",
   "language": "python",
   "name": "python3"
  },
  "language_info": {
   "codemirror_mode": {
    "name": "ipython",
    "version": 3
   },
   "file_extension": ".py",
   "mimetype": "text/x-python",
   "name": "python",
   "nbconvert_exporter": "python",
   "pygments_lexer": "ipython3",
   "version": "3.7.6"
  }
 },
 "nbformat": 4,
 "nbformat_minor": 1
}
