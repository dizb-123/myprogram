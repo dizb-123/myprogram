{
 "cells": [
  {
   "cell_type": "markdown",
   "metadata": {},
   "source": [
    "<!--NAVIGATION-->\n",
    "< [性能测算和计时](01.07-Timing-and-Profiling.ipynb) | [目录](Index.ipynb) | [Numpy介绍](02.00-Introduction-to-NumPy.ipynb) >\n",
    "\n",
    "<a href=\"https://colab.research.google.com/github/wangyingsm/Python-Data-Science-Handbook/blob/master/notebooks/01.08-More-IPython-Resources.ipynb\"><img align=\"left\" src=\"https://colab.research.google.com/assets/colab-badge.svg\" alt=\"Open in Colab\" title=\"Open and Execute in Google Colaboratory\"></a>\n"
   ]
  },
  {
   "cell_type": "markdown",
   "metadata": {},
   "source": [
    "# More IPython Resources\n",
    "\n",
    "# 更多IPython资源"
   ]
  },
  {
   "cell_type": "markdown",
   "metadata": {},
   "source": [
    "> In this chapter, we've just scratched the surface of using IPython to enable data science tasks.\n",
    "Much more information is available both in print and on the Web, and here we'll list some other resources that you may find helpful.\n",
    "\n",
    "本章中我们初步讨论了使用IPython来解决数据科学任务的一些基本内容。更多的内容可以在网上或书籍中找到，最后本小节来列出其中可能对你有帮助的一些资源。"
   ]
  },
  {
   "cell_type": "markdown",
   "metadata": {},
   "source": [
    "## Web Resources\n",
    "\n",
    "## 网络资源\n",
    "\n",
    "> - [The IPython website](http://ipython.org): The IPython website links to documentation, examples, tutorials, and a variety of other resources.\n",
    "> - [The nbviewer website](http://nbviewer.jupyter.org/): This site shows static renderings of any IPython notebook available on the internet. The front page features some example notebooks that you can browse to see what other folks are using IPython for!\n",
    "> - [A gallery of interesting Jupyter Notebooks](https://github.com/jupyter/jupyter/wiki/A-gallery-of-interesting-Jupyter-Notebooks/): This ever-growing list of notebooks, powered by nbviewer, shows the depth and breadth of numerical analysis you can do with IPython. It includes everything from short examples and tutorials to full-blown courses and books composed in the notebook format!\n",
    "> - Video Tutorials: searching the Internet, you will find any video-recorded tutorials on IPython. I'd especially recommend seeking tutorials from the PyCon, SciPy, and PyData conferenes by Fernando Perez and Brian Granger, two of the primary creators and maintainers of IPython and Jupyter.\n",
    "\n",
    "\n",
    "- [IPython官网](http://ipython.org): 在线文档、例子、教程和其他许多资源。\n",
    "- [nbviewer官网](http://nbviewer.jupyter.org/): nbviewer网站能展示互联网上的IPython notebook的资源文件。首页展示了一些notebooks的例子，你可以看到其他人是怎样使用IPython的。\n",
    "- [有趣的Jupyter notebooks展览馆](https://github.com/jupyter/jupyter/wiki/A-gallery-of-interesting-Jupyter-Notebooks/): 这是一个不断增加的notebooks列表，由nbviewer进行维护，展示了许多既有深度又有广度的IPython在数值分析中的应用。它应有尽有，从简短的例子，到稍长的教程，直至完整的课程和书籍，都是使用notebook格式。\n",
    "- 视频教程：在互联网上可以搜索到很多关于IPython的视频教程。作者特别推荐PyCon，SciPy和PyData学术会上Fernando Perez 和 Brian Granger 做的报告，他们是IPython和Jupyter的主要创始人和维护者。"
   ]
  },
  {
   "cell_type": "markdown",
   "metadata": {},
   "source": [
    "## Books\n",
    "\n",
    "## 书籍\n",
    "\n",
    "> - [*Python for Data Analysis*](http://shop.oreilly.com/product/0636920023784.do): Wes McKinney's book includes a chapter that covers using IPython as a data scientist. Although much of the material overlaps what we've discussed here, another perspective is always helpful.\n",
    "> - [*Learning IPython for Interactive Computing and Data Visualization*](https://www.packtpub.com/big-data-and-business-intelligence/learning-ipython-interactive-computing-and-data-visualization): This short book by Cyrille Rossant offers a good introduction to using IPython for data analysis.\n",
    "> - [*IPython Interactive Computing and Visualization Cookbook*](https://www.packtpub.com/big-data-and-business-intelligence/ipython-interactive-computing-and-visualization-cookbook): Also by Cyrille Rossant, this book is a longer and more advanced treatment of using IPython for data science. Despite its name, it's not just about IPython–it also goes into some depth on a broad range of data science topics.\n",
    "\n",
    "\n",
    "- [*Python for Data Analysis*](http://shop.oreilly.com/product/0636920023784.do): 作者：Wes McKinney，其中有一章专门讲述使用IPython来进行数据科学处理。虽然大部分的内容可能与本书我们将要看到的有重复，从另一个角度进行认知永远不是坏事。\n",
    "- [*Learning IPython for Interactive Computing and Data Visualization*](https://www.packtpub.com/big-data-and-business-intelligence/learning-ipython-interactive-computing-and-data-visualization): 作者：Cyrille Rossant，一本很简短的书籍专门介绍使用IPython进行数据分析。\n",
    "- [*IPython Interactive Computing and Visualization Cookbook*](https://www.packtpub.com/big-data-and-business-intelligence/ipython-interactive-computing-and-visualization-cookbook): 作者：Cyrille Rossant, 一本更加详尽的书籍，对于在数据科学领域使用IPython进行了深入的介绍。虽然名字叫做IPython，实际上内容深度涵盖了数据科学的广泛课题。\n",
    "\n",
    "> Finally, a reminder that you can find help on your own: IPython's ``?``-based help functionality (discussed in [Help and Documentation in IPython](01.01-Help-And-Documentation.ipynb)) can be very useful if you use it well and use it often.\n",
    "As you go through the examples here and elsewhere, this can be used to familiarize yourself with all the tools that IPython has to offer.\n",
    "\n",
    "最后还是再次提醒一下，当你在使用IPython时遇到了困难，不要忘记了IPython本身自带的帮助工具`?`（参见[IPython帮助和文档](01.01-Help-And-Documentation.ipynb)），当你经常使用它，熟练地掌握它之后，你会发现它能带给你的帮助超出你的预期。当你在本书中或其他资源处查看例子的时候，它能让你事半功倍地熟悉IPython中提供的工具和功能。"
   ]
  },
  {
   "cell_type": "markdown",
   "metadata": {},
   "source": [
    "<!--NAVIGATION-->\n",
    "< [性能测算和计时](01.07-Timing-and-Profiling.ipynb) | [目录](Index.ipynb) | [Numpy介绍](02.00-Introduction-to-NumPy.ipynb) >\n",
    "\n",
    "<a href=\"https://colab.research.google.com/github/wangyingsm/Python-Data-Science-Handbook/blob/master/notebooks/01.08-More-IPython-Resources.ipynb\"><img align=\"left\" src=\"https://colab.research.google.com/assets/colab-badge.svg\" alt=\"Open in Colab\" title=\"Open and Execute in Google Colaboratory\"></a>\n"
   ]
  }
 ],
 "metadata": {
  "anaconda-cloud": {},
  "kernelspec": {
   "display_name": "Python 3",
   "language": "python",
   "name": "python3"
  },
  "language_info": {
   "codemirror_mode": {
    "name": "ipython",
    "version": 3
   },
   "file_extension": ".py",
   "mimetype": "text/x-python",
   "name": "python",
   "nbconvert_exporter": "python",
   "pygments_lexer": "ipython3",
   "version": "3.7.6"
  }
 },
 "nbformat": 4,
 "nbformat_minor": 1
}
