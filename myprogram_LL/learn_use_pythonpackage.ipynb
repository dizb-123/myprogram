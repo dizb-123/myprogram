{
 "cells": [
  {
   "cell_type": "code",
   "execution_count": 7,
   "metadata": {},
   "outputs": [],
   "source": [
    "import numpy as np"
   ]
  },
  {
   "cell_type": "code",
   "execution_count": 8,
   "metadata": {},
   "outputs": [
    {
     "name": "stdout",
     "output_type": "stream",
     "text": [
      "[1 2 3 4]\n"
     ]
    }
   ],
   "source": [
    "#创造数组\n",
    "array=np.array([1,2,3,4])\n",
    "print(array)"
   ]
  },
  {
   "cell_type": "code",
   "execution_count": 10,
   "metadata": {},
   "outputs": [
    {
     "name": "stdout",
     "output_type": "stream",
     "text": [
      "1.15.1\n"
     ]
    }
   ],
   "source": [
    "print(np.__version__)\n",
    "#输出np的版本"
   ]
  },
  {
   "cell_type": "code",
   "execution_count": 11,
   "metadata": {},
   "outputs": [
    {
     "data": {
      "text/plain": [
       "numpy.ndarray"
      ]
     },
     "execution_count": 11,
     "metadata": {},
     "output_type": "execute_result"
    }
   ],
   "source": [
    "#numpy中的数组对象叫做ndarray\n",
    "\"\"\"type(): 这个内置的 Python 函数告诉我们传递给它的对象的类型。像上面的代码一样，它表明 arr 是 numpy.ndarray 类型。\n",
    "\n",
    "要创建 ndarray，我们可以将列表、元组或任何类似数组的对象传递给 array() 方法，然后它将被转换为 ndarray：\"\"\"\n",
    "array_1=np.array((1,2,3,4))\n",
    "type(array_1)"
   ]
  },
  {
   "cell_type": "code",
   "execution_count": 12,
   "metadata": {},
   "outputs": [
    {
     "name": "stdout",
     "output_type": "stream",
     "text": [
      "61\n"
     ]
    }
   ],
   "source": [
    "#0-D数组或者叫Scalars标量\n",
    "array_2=np.array(61)\n",
    "print(array_2)"
   ]
  },
  {
   "cell_type": "code",
   "execution_count": 21,
   "metadata": {},
   "outputs": [
    {
     "name": "stdout",
     "output_type": "stream",
     "text": [
      "[1 2 3 4]\n",
      "[[1 2 3 4]\n",
      " [1 2 3 4]]\n",
      "[[[1 2 3 4]\n",
      "  [1 2 3 4]]\n",
      "\n",
      " [[1 2 3 4]\n",
      "  [1 2 3 4]]]\n",
      "[[[[ 1  2  3]\n",
      "   [ 1 23  4]]\n",
      "\n",
      "  [[ 1 23  4]\n",
      "   [ 1 23  4]]]\n",
      "\n",
      "\n",
      " [[[ 1  2  3]\n",
      "   [ 1  2  3]]\n",
      "\n",
      "  [[ 1  2 34]\n",
      "   [ 1  2  4]]]]\n",
      "[[[[1 2 3 4]\n",
      "   [1 2 3 4]]\n",
      "\n",
      "  [[1 2 3 4]\n",
      "   [1 2 3 4]]]\n",
      "\n",
      "\n",
      " [[[1 2 3 4]\n",
      "   [1 2 3 4]]\n",
      "\n",
      "  [[1 2 3 4]\n",
      "   [1 2 3 4]]]]\n"
     ]
    }
   ],
   "source": [
    "#1-D数组，2-D数组，3-D数组很容易理解的是他们的元素便是上一维度的数组作为元素构成\n",
    "array_3=np.array([1,2,3,4])\n",
    "array_4=np.array([array_3,array_3])\n",
    "array_5=np.array([array_4,array_4])\n",
    "array_6=np.array([[[[1,2,3],[1,23,4]],[[1,23,4],[1,23,4]]],[[[1,2,3,],[1,2,3,]],[[1,2,34],[1,2,4,]]]])\n",
    "#如果数组的所有子元素长度和类型一致，NumPy 会将其视为多维数组，并且不会在输出中显示 list 关键字。\n",
    "#如果数组的子元素长度不一致，NumPy 会将这些元素视为对象数组 (dtype=object)，并在输出中显示 list 关键字。\n",
    "array_7=np.array([array_5,array_5])\n",
    "print(array_3)\n",
    "print(array_4)\n",
    "print(array_5)\n",
    "print(array_6)\n",
    "print(array_7)"
   ]
  },
  {
   "cell_type": "markdown",
   "metadata": {},
   "source": [
    "\n",
    "在 NumPy 中，对象数组和普通数组（也称为数值数组）有以下几个主要区别：\n",
    "\n",
    "1. 数据类型\n",
    "普通数组：所有元素的类型必须相同，并且数组中的元素类型是固定的，如整数、浮点数、布尔值等。NumPy 会自动推断并统一数组的数据类型。\n",
    "对象数组：允许每个元素有不同的类型。元素可以是任意 Python 对象，如整数、浮点数、字符串、列表、元组等。对象数组的元素类型被视为 Python 的 object。\n",
    "2. 内存布局\n",
    "普通数组：由于所有元素类型相同，NumPy 能够在内存中以连续的块来存储数据，这样访问速度更快，性能更好。\n",
    "对象数组：每个元素是一个指向 Python 对象的指针。对象数组中的元素不是连续存储的，因此访问速度较慢，性能较差。\n",
    "3. 操作支持\n",
    "普通数组：支持大多数 NumPy 操作和函数，如矢量化运算、广播、数学运算等。这些操作在普通数组上非常高效。\n",
    "对象数组：许多 NumPy 操作和函数不适用于对象数组，因为这些操作依赖于统一的数据类型和内存布局。对对象数组的操作通常会退化为逐个元素的操作，性能较差。\n",
    "4. 用途\n",
    "普通数组：适用于需要高效数值计算和数据处理的场景，如科学计算、数据分析、机器学习等。\n",
    "对象数组：适用于需要存储和处理异构数据的场景，如包含多种数据类型的列表、复杂的嵌套结构等。"
   ]
  },
  {
   "cell_type": "code",
   "execution_count": 23,
   "metadata": {},
   "outputs": [
    {
     "name": "stdout",
     "output_type": "stream",
     "text": [
      "0\n",
      "1\n",
      "2\n",
      "[[[1 2 3]\n",
      "  [4 5 6]]\n",
      "\n",
      " [[1 2 3]\n",
      "  [4 5 6]]]\n",
      "[[[[[ 1 23  4]]]]]\n"
     ]
    }
   ],
   "source": [
    "import numpy as np\n",
    "a = np.array(42)\n",
    "b = np.array([1, 2, 3, 4, 5])\n",
    "c = np.array([[1, 2, 3], [4, 5, 6]])\n",
    "d = np.array([[[1, 2, 3], [4, 5, 6]], [[1, 2, 3], [4, 5, 6]]])\n",
    "#使用ndim来获取数组的维度\n",
    "print(a.ndim) \n",
    "print(b.ndim) \n",
    "print(c.ndim) \n",
    "print(d)\n",
    "#使用ndmin来创造数组\n",
    "e=np.array([1,23,4],ndmin=5)\n",
    "print(e)"
   ]
  },
  {
   "cell_type": "code",
   "execution_count": 31,
   "metadata": {},
   "outputs": [
    {
     "name": "stdout",
     "output_type": "stream",
     "text": [
      "[[ 1  2 34]\n",
      " [ 1  2  4]]\n",
      "[1 2 4]\n",
      "4\n"
     ]
    }
   ],
   "source": [
    "#学习使用索引对n-D数组进行访问\n",
    "f=np.array([[[[1,2,3],[1,23,4]],[[1,23,4],[1,23,4]]],[[[1,2,3,],[1,2,3,]],[[1,2,34],[1,2,4,]]]])\n",
    "print(f[1,1])\n",
    "print(f[1,1,-1])#这里的负数就是倒过来读-1是倒数第一个元素\n",
    "print(f.ndim)"
   ]
  },
  {
   "cell_type": "markdown",
   "metadata": {},
   "source": [
    "裁切数组\n",
    "python 中裁切的意思是将元素从一个给定的索引带到另一个给定的索引。\n",
    "\n",
    "我们像这样传递切片而不是索引：[start：end]。\n",
    "\n",
    "我们还可以定义步长，如下所示：[start：end：step]。\n",
    "\n",
    "如果我们不传递 start，则将其视为 0。\n",
    "\n",
    "如果我们不传递 end，则视为该维度内数组的长度。\n",
    "\n",
    "如果我们不传递 step，则视为 1。"
   ]
  },
  {
   "cell_type": "code",
   "execution_count": 39,
   "metadata": {},
   "outputs": [
    {
     "name": "stdout",
     "output_type": "stream",
     "text": [
      "[[[[ 1  2  3]\n",
      "   [ 1 23  4]]\n",
      "\n",
      "  [[ 1 23  4]\n",
      "   [ 1 23  4]]]\n",
      "\n",
      "\n",
      " [[[ 1  2  3]\n",
      "   [ 1  2  3]]\n",
      "\n",
      "  [[ 1  2 34]\n",
      "   [ 1  2  4]]]]\n",
      "[[[[ 1  2  3]\n",
      "   [ 1 23  4]]\n",
      "\n",
      "  [[ 1 23  4]\n",
      "   [ 1 23  4]]]\n",
      "\n",
      "\n",
      " [[[ 1  2  3]\n",
      "   [ 1  2  3]]\n",
      "\n",
      "  [[ 1  2 34]\n",
      "   [ 1  2  4]]]]\n",
      "[[[[ 1  2  3]\n",
      "   [ 1 23  4]]\n",
      "\n",
      "  [[ 1 23  4]\n",
      "   [ 1 23  4]]]\n",
      "\n",
      "\n",
      " [[[ 1  2  3]\n",
      "   [ 1  2  3]]\n",
      "\n",
      "  [[ 1  2 34]\n",
      "   [ 1  2  4]]]]\n",
      "[1 3 5 7]\n"
     ]
    }
   ],
   "source": [
    "#数组的裁切\n",
    "print(f[0:2:1])#显然的是我们这里是左闭右开的裁剪的方式\n",
    "print(f[:2])\n",
    "print(f[0:])\n",
    "g=np.array([1,2,3,4,5,6,7])\n",
    "print(g[::2])"
   ]
  },
  {
   "cell_type": "code",
   "execution_count": 54,
   "metadata": {},
   "outputs": [
    {
     "name": "stdout",
     "output_type": "stream",
     "text": [
      "[3 4 5 6]\n",
      "[1 2 4]\n"
     ]
    }
   ],
   "source": [
    "#使用一下负裁剪的方式满足仍然是左闭右开的方式\n",
    "print(g[-5:-1:1])\n",
    "#多维数组的裁剪的方式\n",
    "f=np.array([[[[1,2,3],[1,23,4]],[[1,23,4],[1,23,4]]],[[[1,2,3],[1,2,3]],[[1,2,34],[1,2,4]]]])\n",
    "print(f[1,1,1,::1])"
   ]
  },
  {
   "cell_type": "markdown",
   "metadata": {},
   "source": [
    "对于多维数组的裁剪很容易理解就是索引加上裁剪"
   ]
  },
  {
   "cell_type": "markdown",
   "metadata": {},
   "source": [
    "Python 中的数据类型\n",
    "默认情况下，Python 拥有以下数据类型：\n",
    "\n",
    "strings - 用于表示文本数据，文本用引号引起来。例如 \"ABCD\"。\n",
    "integer - 用于表示整数。例如 -1, -2, -3。\n",
    "float - 用于表示实数。例如 1.2, 42.42。\n",
    "boolean - 用于表示 True 或 False。\n",
    "complex - 用于表示复平面中的数字。例如 1.0 + 2.0j，1.5 + 2.5j。\n",
    "NumPy 中的数据类型\n",
    "NumPy 有一些额外的数据类型，并通过一个字符引用数据类型，例如 i 代表整数，u 代表无符号整数等。\n",
    "\n",
    "以下是 NumPy 中所有数据类型的列表以及用于表示它们的字符。\n",
    "\n",
    "i - 整数\n",
    "b - 布尔\n",
    "u - 无符号整数\n",
    "f - 浮点\n",
    "c - 复合浮点数\n",
    "m - timedelta\n",
    "M - datetime\n",
    "O - 对象\n",
    "S - 字符串\n",
    "U - unicode 字符串\n",
    "V - 固定的其他类型的内存块 ( void )"
   ]
  },
  {
   "cell_type": "code",
   "execution_count": 55,
   "metadata": {},
   "outputs": [
    {
     "name": "stdout",
     "output_type": "stream",
     "text": [
      "int32\n"
     ]
    }
   ],
   "source": [
    "#NumPy 数组对象有一个名为 dtype 的属性，该属性返回数组的数据类型：\n",
    "t=np.array([1,2,3,4,5,6])\n",
    "print(t.dtype)"
   ]
  },
  {
   "cell_type": "markdown",
   "metadata": {},
   "source": [
    "用已定义的数据类型创建数组\n",
    "我们使用 array() 函数来创建数组，该函数可以使用可选参数：dtype，它允许我们定义数组元素的预期数据类型："
   ]
  },
  {
   "cell_type": "code",
   "execution_count": 61,
   "metadata": {},
   "outputs": [
    {
     "name": "stdout",
     "output_type": "stream",
     "text": [
      "[b'1' b'2' b'34' b'56' b'7']\n",
      "int32\n",
      "int64\n"
     ]
    }
   ],
   "source": [
    "t=np.array([1,2,34,56,7],dtype='S')\n",
    "t1=np.array(t,dtype='i4')\n",
    "t2=np.array([1,2,3,4],dtype='i8')\n",
    "print(t)\n",
    "print(t1.dtype)\n",
    "print(t2.dtype)\n",
    "#i后面的数字是你是使用的多少字节的整数的类型"
   ]
  },
  {
   "cell_type": "markdown",
   "metadata": {},
   "source": [
    "假如值无法转换会怎样？\n",
    "如果给出了不能强制转换元素的类型，则 NumPy 将引发 ValueError。\n",
    "\n",
    "ValueError：在 Python 中，如果传递给函数的参数的类型是非预期或错误的，则会引发 ValueError。"
   ]
  },
  {
   "cell_type": "code",
   "execution_count": 62,
   "metadata": {},
   "outputs": [
    {
     "ename": "ValueError",
     "evalue": "invalid literal for int() with base 10: 'a'",
     "output_type": "error",
     "traceback": [
      "\u001b[1;31m---------------------------------------------------------------------------\u001b[0m",
      "\u001b[1;31mValueError\u001b[0m                                Traceback (most recent call last)",
      "\u001b[1;32m<ipython-input-62-4101754d9810>\u001b[0m in \u001b[0;36m<module>\u001b[1;34m()\u001b[0m\n\u001b[1;32m----> 1\u001b[1;33m \u001b[0marr\u001b[0m \u001b[1;33m=\u001b[0m \u001b[0mnp\u001b[0m\u001b[1;33m.\u001b[0m\u001b[0marray\u001b[0m\u001b[1;33m(\u001b[0m\u001b[1;33m[\u001b[0m\u001b[1;34m'a'\u001b[0m\u001b[1;33m,\u001b[0m \u001b[1;34m'2'\u001b[0m\u001b[1;33m,\u001b[0m \u001b[1;34m'3'\u001b[0m\u001b[1;33m]\u001b[0m\u001b[1;33m,\u001b[0m \u001b[0mdtype\u001b[0m\u001b[1;33m=\u001b[0m\u001b[1;34m'i'\u001b[0m\u001b[1;33m)\u001b[0m\u001b[1;33m\u001b[0m\u001b[0m\n\u001b[0m",
      "\u001b[1;31mValueError\u001b[0m: invalid literal for int() with base 10: 'a'"
     ]
    }
   ],
   "source": [
    "arr = np.array(['a', '2', '3'], dtype='i')"
   ]
  },
  {
   "cell_type": "code",
   "execution_count": 69,
   "metadata": {},
   "outputs": [
    {
     "name": "stdout",
     "output_type": "stream",
     "text": [
      "[1.1 1.2 1.3 1.4 1.5]\n",
      "float32\n",
      "[1 1 1 1 1]\n",
      "int32\n",
      "[ True  True  True  True  True]\n",
      "bool\n"
     ]
    }
   ],
   "source": [
    "a=np.array([1.1,1.2,1.3,1.4,1.5],dtype='f')\n",
    "b=a.astype('i')#使用自动转化类型的函数astype是会返回一个数组\n",
    "print(a)\n",
    "print(a.dtype)\n",
    "print(b)\n",
    "print(b.dtype)\n",
    "c=b.astype(bool)\n",
    "print(c)\n",
    "print(c.dtype)"
   ]
  },
  {
   "cell_type": "markdown",
   "metadata": {},
   "source": [
    "副本和视图之间的区别\n",
    "副本和数组视图之间的主要区别在于副本是一个新数组，而这个视图只是原始数组的视图。\n",
    "\n",
    "副本拥有数据，对副本所做的任何更改都不会影响原始数组，对原始数组所做的任何更改也不会影响副本。\n",
    "\n",
    "视图不拥有数据，对视图所做的任何更改都会影响原始数组，而对原始数组所做的任何更改都会影响视图。类似与c++的引用和副本"
   ]
  },
  {
   "cell_type": "code",
   "execution_count": 71,
   "metadata": {},
   "outputs": [
    {
     "name": "stdout",
     "output_type": "stream",
     "text": [
      "[64 23  4  5  6]\n",
      "[ 1 23  4  5  6]\n",
      "[64 23  4  5  6]\n",
      "None\n",
      "[64 23  4  5  6]\n"
     ]
    }
   ],
   "source": [
    "a=np.array([1,23,4,5,6],dtype='i')\n",
    "b=a.copy()\n",
    "c=a.view()\n",
    "a[0]=64\n",
    "print(a)\n",
    "print(b)\n",
    "print(c)#所谓的视图就是引用\n",
    "#如何检查这个数组是不是拥有数据原始数组才拥有数据副本也算原始的数组\n",
    "#使用base来检查\n",
    "print(b.base)\n",
    "print(c.base)\n",
    "#如果拥有数据那么返回的结果会是一个None的结果并不是则返回原始数组"
   ]
  },
  {
   "cell_type": "markdown",
   "metadata": {},
   "source": [
    "数组的形状\n",
    "数组的形状是每个维中元素的数量。\n",
    "\n",
    "获取数组的形状\n",
    "NumPy 数组有一个名为 shape 的属性，该属性返回一个元组，每个索引具有相应元素的数量。"
   ]
  },
  {
   "cell_type": "code",
   "execution_count": 72,
   "metadata": {},
   "outputs": [
    {
     "name": "stdout",
     "output_type": "stream",
     "text": [
      "(2, 2, 2, 3)\n"
     ]
    }
   ],
   "source": [
    "#使用shape\n",
    "print(f.shape)#这个数组有四个维度维度的元素个数分别为2，2，2，3"
   ]
  },
  {
   "cell_type": "markdown",
   "metadata": {},
   "source": [
    "数组重塑\n",
    "重塑意味着更改数组的形状。\n",
    "\n",
    "数组的形状是每个维中元素的数量。\n",
    "\n",
    "通过重塑，我们可以添加或删除维度或更改每个维度中的元素数量。"
   ]
  },
  {
   "cell_type": "code",
   "execution_count": 84,
   "metadata": {},
   "outputs": [
    {
     "name": "stdout",
     "output_type": "stream",
     "text": [
      "[[1 2 3]\n",
      " [4 5 6]]\n",
      "[[[1]\n",
      "  [2]\n",
      "  [3]]\n",
      "\n",
      " [[4]\n",
      "  [5]\n",
      "  [6]]]\n",
      "[[[1]\n",
      "  [5]\n",
      "  [3]]\n",
      "\n",
      " [[1]\n",
      "  [2]\n",
      "  [3]]]\n",
      "[[1 5 3]\n",
      " [1 2 3]]\n",
      "[[1 5 3]\n",
      " [1 2 3]]\n",
      "[1 5 3 1 2 3]\n",
      "[[[1]\n",
      "  [5]\n",
      "  [3]]\n",
      "\n",
      " [[1]\n",
      "  [2]\n",
      "  [3]]]\n"
     ]
    }
   ],
   "source": [
    "a=np.array([1,2,3,4,5,6])\n",
    "b=a.reshape(2,3)\n",
    "c=a.reshape(2,3,1)#来解析一下这个的过程这个就相当与最后一个使用的是1则用1一个元素构成基本的元素然后前面是三就用三个后面的1构成一个倒数第二为的元素的的基本元素\n",
    "print(b)\n",
    "print(c)\n",
    "#如果元素的数量是错误的话他是会返回value_error的错误的\n",
    "d=np.array([[1,2,3],[1,2,3]])\n",
    "e=d.reshape(2,3,1)\n",
    "g=e\n",
    "d[0,1]=5\n",
    "print(e)\n",
    "print(e.base)#值得注意的是e并不拥有数据他只是一个视图\n",
    "print(g.base)\n",
    "print(g.reshape(-1))\n",
    "print(d.reshape(2,-1,1))\n",
    "#注意我们只能使用一个-1来表示一个未知维度让python自己计算出来，对于维度的重塑他都是展开后在重塑的\n",
    "#数组的展开就是重塑为一维数组的过程"
   ]
  },
  {
   "cell_type": "markdown",
   "metadata": {},
   "source": [
    "数组迭代\n",
    "迭代意味着逐一遍历元素。\n",
    "\n",
    "当我们在 numpy 中处理多维数组时，可以使用 python 的基本 for 循环来完成此操作。\n",
    "\n",
    "如果我们对 1-D 数组进行迭代，它将逐一遍历每个元素。"
   ]
  },
  {
   "cell_type": "code",
   "execution_count": 87,
   "metadata": {},
   "outputs": [
    {
     "name": "stdout",
     "output_type": "stream",
     "text": [
      "[1 2 3 4]\n",
      "[1 2 3 4]\n",
      "[1 2 3 4]\n",
      "[1 2 3 4]\n"
     ]
    }
   ],
   "source": [
    "f=np.array([[[1,2,3,4],[1,2,3,4]],[[1,2,3,4],[1,2,3,4]]])\n",
    "for x in f:\n",
    "    for y in x: \n",
    "                print(y)"
   ]
  },
  {
   "cell_type": "markdown",
   "metadata": {},
   "source": [
    "使用 nditer() 迭代数组\n",
    "函数 nditer() 是一个辅助函数，从非常基本的迭代到非常高级的迭代都可以使用。它解决了我们在迭代中面临的一些基本问题，让我们通过例子进行介绍。\n",
    "\n",
    "迭代每个标量元素\n",
    "在基本的 for 循环中，迭代遍历数组的每个标量，我们需要使用 n 个 for 循环，对于具有高维数的数组可能很难编写。\n",
    "\n",
    "实例\n",
    "遍历以下 3-D 数组："
   ]
  },
  {
   "cell_type": "code",
   "execution_count": 89,
   "metadata": {},
   "outputs": [
    {
     "name": "stdout",
     "output_type": "stream",
     "text": [
      "1\n",
      "2\n",
      "3\n",
      "4\n",
      "1\n",
      "2\n",
      "3\n",
      "4\n",
      "1\n",
      "2\n",
      "3\n",
      "4\n",
      "1\n",
      "2\n",
      "3\n",
      "4\n"
     ]
    }
   ],
   "source": [
    "for x in np.nditer(f):\n",
    "    print(x)\n",
    "    #面对的是一个高级维度的矩阵的时候需要输出他的最低维度的矩阵的元素的时候这样的可能需要写很多for in的循环但是这样我们就可以简单写出"
   ]
  },
  {
   "cell_type": "markdown",
   "metadata": {},
   "source": [
    "迭代不同数据类型的数组\n",
    "我们可以使用 op_dtypes 参数，并传递期望的数据类型，以在迭代时更改元素的数据类型。\n",
    "\n",
    "NumPy 不会就地更改元素的数据类型（元素位于数组中），因此它需要一些其他空间来执行此操作，该额外空间称为 buffer，为了在 nditer() 中启用它，我们传参 flags=['buffered']。"
   ]
  },
  {
   "cell_type": "code",
   "execution_count": 96,
   "metadata": {},
   "outputs": [
    {
     "name": "stdout",
     "output_type": "stream",
     "text": [
      "b'12'\n",
      "b'1'\n",
      "b'12'\n",
      "b'1'\n",
      "b'1'\n",
      "b'2'\n",
      "b'3'\n",
      "b'4'\n"
     ]
    }
   ],
   "source": [
    "a=np.array([[12,1,12,1],[1,2,3,4]])\n",
    "for x in np.nditer(a,flags=['buffered'],op_dtypes=['S']):\n",
    "    print(x)"
   ]
  },
  {
   "cell_type": "code",
   "execution_count": 104,
   "metadata": {},
   "outputs": [
    {
     "name": "stdout",
     "output_type": "stream",
     "text": [
      "b'1'\n",
      "b'2'\n",
      "b'3'\n",
      "b'4'\n",
      "b'5'\n",
      "b'6'\n",
      "b'7'\n",
      "b'8'\n",
      "b'9'\n",
      "1\n",
      "2\n",
      "3\n",
      "7\n",
      "8\n",
      "9\n"
     ]
    }
   ],
   "source": [
    "# 创建一个二维数组\n",
    "arr = np.array([[1, 2, 3], [4, 5, 6],[7,8,9]])\n",
    "\n",
    "# 使用 nditer 遍历数组元素，并将元素类型转换为字节串\n",
    "for x in np.nditer(arr, flags=['buffered'], op_dtypes=['S']):\n",
    "  print(x)\n",
    "for x in np.nditer(arr[::2,::1]):#这里采用的是一个多维切片的操作方式\n",
    "    print(x)"
   ]
  },
  {
   "cell_type": "markdown",
   "metadata": {},
   "source": [
    "使用 ndenumerate() 进行枚举迭代\n",
    "枚举是指逐一提及事物的序号。\n",
    "\n",
    "有时，我们在迭代时需要元素的相应索引，对于这些用例，可以使用 ndenumerate() 方法。"
   ]
  },
  {
   "cell_type": "code",
   "execution_count": 106,
   "metadata": {},
   "outputs": [
    {
     "name": "stdout",
     "output_type": "stream",
     "text": [
      "(0, 0) 1\n",
      "(0, 1) 2\n",
      "(0, 2) 3\n",
      "(1, 0) 4\n",
      "(1, 1) 5\n",
      "(1, 2) 6\n",
      "(2, 0) 7\n",
      "(2, 1) 8\n",
      "(2, 2) 9\n"
     ]
    }
   ],
   "source": [
    "for index,x in np.ndenumerate(arr):\n",
    "    print(index,x)#这个是所谓的枚举迭代的方式他返回的是对应的索引以及对应的值"
   ]
  },
  {
   "cell_type": "markdown",
   "metadata": {},
   "source": [
    "连接 NumPy 数组\n",
    "连接意味着将两个或多个数组的内容放在单个数组中。\n",
    "\n",
    "在 SQL 中，我们基于键来连接表，而在 NumPy 中，我们按轴连接数组。\n",
    "\n",
    "我们传递了一系列要与轴一起连接到 concatenate() 函数的数组。如果未显式传递轴，则将其视为 0。"
   ]
  },
  {
   "cell_type": "code",
   "execution_count": 141,
   "metadata": {},
   "outputs": [
    {
     "name": "stdout",
     "output_type": "stream",
     "text": [
      "[[1 2 3 1 2 3]\n",
      " [2 4 6 1 2 3]]\n",
      "None\n",
      "[[1 2 3]\n",
      " [2 4 6]\n",
      " [1 2 3]\n",
      " [1 2 3]]\n",
      "[[[1 2 3]\n",
      "  [1 2 3]]\n",
      "\n",
      " [[2 4 6]\n",
      "  [1 2 3]]]\n",
      "[[[1 2 3]\n",
      "  [2 4 6]]\n",
      "\n",
      " [[1 2 3]\n",
      "  [1 2 3]]]\n",
      "[[[1 1]\n",
      "  [2 2]\n",
      "  [3 3]]\n",
      "\n",
      " [[2 1]\n",
      "  [4 2]\n",
      "  [6 3]]]\n"
     ]
    }
   ],
   "source": [
    "a=np.array([[1,2,3],[2,4,6]])\n",
    "b=np.array([[1,2,3],[1,2,3]])\n",
    "#ValueError: all the input arrays must have same number of dimensions\n",
    "c=np.concatenate((a,b),axis=1)\n",
    "#如果axis的值为1的话他是沿着行进行连接的，如果axis是0的话他是通过列进行连接的,而且的他的默认值也是0\n",
    "d=np.concatenate((a,b),axis=0)\n",
    "print(c)\n",
    "print(c.base)#而且生成的是一个原始数据的对象\n",
    "print(d)\n",
    "print(np.stack((a,b),axis=1))\n",
    "print(np.stack((a,b),axis=0))\n",
    "print(np.dstack((a,b)))"
   ]
  },
  {
   "cell_type": "markdown",
   "metadata": {},
   "source": [
    "使用堆栈函数连接数组\n",
    "堆栈与级联相同，唯一的不同是堆栈是沿着新轴完成的。\n",
    "\n",
    "我们可以沿着第二个轴连接两个一维数组，这将导致它们彼此重叠，即，堆叠（stacking）。\n",
    "\n",
    "我们传递了一系列要与轴一起连接到 concatenate() 方法的数组。如果未显式传递轴，则将其视为 0。"
   ]
  },
  {
   "cell_type": "code",
   "execution_count": 135,
   "metadata": {},
   "outputs": [
    {
     "name": "stdout",
     "output_type": "stream",
     "text": [
      "[ 1 23  4  2  3  4]\n",
      "[[ 1 23  4]\n",
      " [ 2  3  4]]\n"
     ]
    }
   ],
   "source": [
    "a=np.array([1,23,4])\n",
    "b=np.array([2,3,4])\n",
    "c=np.stack((a,b))\n",
    "d=np.concatenate((a,b),axis=0)#很显然的是concatenate他是不会改变类型的\n",
    "print(d)\n",
    "print(c)"
   ]
  },
  {
   "cell_type": "code",
   "execution_count": 136,
   "metadata": {},
   "outputs": [
    {
     "name": "stdout",
     "output_type": "stream",
     "text": [
      "[[ 1 23  4]\n",
      " [ 2  3  4]]\n",
      "[ 1 23  4  2  3  4]\n",
      "[[ 1 23  4]\n",
      " [ 2  3  4]]\n",
      "[[[ 1  2]\n",
      "  [23  3]\n",
      "  [ 4  4]]]\n"
     ]
    }
   ],
   "source": [
    "e=np.stack((a,b),axis=0)#矩阵的类型也是可以不一样的\n",
    "f=np.hstack((a,b))\n",
    "g=np.vstack((a,b))\n",
    "h=np.dstack((a,b))\n",
    "print(e)\n",
    "print(f)\n",
    "print(g)\n",
    "print(h)"
   ]
  },
  {
   "cell_type": "markdown",
   "metadata": {},
   "source": [
    "拆分 NumPy 数组\n",
    "拆分是连接的反向操作。\n",
    "\n",
    "连接（Joining）是将多个数组合并为一个，拆分（Spliting）将一个数组拆分为多个。\n",
    "\n",
    "我们使用 array_split() 分割数组，将要分割的数组和分割数传递给它。"
   ]
  },
  {
   "cell_type": "code",
   "execution_count": 145,
   "metadata": {},
   "outputs": [
    {
     "name": "stdout",
     "output_type": "stream",
     "text": [
      "[array([1, 2]), array([34,  5]), array([6, 7])]\n",
      "[array([1]), array([2]), array([34]), array([5]), array([6]), array([7]), array([], dtype=int32)]\n"
     ]
    }
   ],
   "source": [
    "a=np.array([1,2,34,5,6,7])\n",
    "b=np.array_split(a,3)\n",
    "c=np.array_split(a,7)\n",
    "print(b)\n",
    "print(c)"
   ]
  },
  {
   "cell_type": "code",
   "execution_count": 146,
   "metadata": {},
   "outputs": [
    {
     "name": "stdout",
     "output_type": "stream",
     "text": [
      "[[ 1  2  3]\n",
      " [ 4  5  6]\n",
      " [ 7  8  9]\n",
      " [10 11 12]\n",
      " [13 14 15]\n",
      " [16 17 18]]\n",
      "[array([[ 1],\n",
      "       [ 4],\n",
      "       [ 7],\n",
      "       [10],\n",
      "       [13],\n",
      "       [16]]), array([[ 2],\n",
      "       [ 5],\n",
      "       [ 8],\n",
      "       [11],\n",
      "       [14],\n",
      "       [17]]), array([[ 3],\n",
      "       [ 6],\n",
      "       [ 9],\n",
      "       [12],\n",
      "       [15],\n",
      "       [18]])]\n"
     ]
    }
   ],
   "source": [
    "arr = np.array([[1, 2, 3], [4, 5, 6], [7, 8, 9], [10, 11, 12], [13, 14, 15], [16, 17, 18]])\n",
    "print(arr)\n",
    "newarr = np.array_split(arr, 3, axis=1)\n",
    "print(newarr)"
   ]
  },
  {
   "cell_type": "markdown",
   "metadata": {},
   "source": [
    "搜索数组\n",
    "您可以在数组中搜索（检索）某个值，然后返回获得匹配的索引。\n",
    "\n",
    "要搜索数组，请使用 where() 方法。"
   ]
  },
  {
   "cell_type": "code",
   "execution_count": 159,
   "metadata": {},
   "outputs": [
    {
     "name": "stdout",
     "output_type": "stream",
     "text": [
      "(array([1, 3, 5, 7], dtype=int64),)\n"
     ]
    }
   ],
   "source": [
    "arr = np.array([1, 2, 3, 4, 5, 6, 7, 8])\n",
    "x=np.where(arr%2==0)#这个是进行查找偶数的一个搜索的数组\n",
    "print(x)"
   ]
  },
  {
   "cell_type": "code",
   "execution_count": 160,
   "metadata": {},
   "outputs": [],
   "source": [
    "y=np.searchsorted(arr,8)"
   ]
  },
  {
   "cell_type": "code",
   "execution_count": 161,
   "metadata": {},
   "outputs": [
    {
     "name": "stdout",
     "output_type": "stream",
     "text": [
      "7\n"
     ]
    }
   ],
   "source": [
    "print(y)"
   ]
  },
  {
   "cell_type": "code",
   "execution_count": 150,
   "metadata": {},
   "outputs": [
    {
     "name": "stdout",
     "output_type": "stream",
     "text": [
      "[1 2 3 4 5 6 7 8]\n"
     ]
    }
   ],
   "source": [
    "print(arr)"
   ]
  },
  {
   "cell_type": "code",
   "execution_count": 151,
   "metadata": {},
   "outputs": [
    {
     "name": "stdout",
     "output_type": "stream",
     "text": [
      "4\n"
     ]
    }
   ],
   "source": [
    "print(np.searchsorted(arr,4,side='right'))"
   ]
  },
  {
   "cell_type": "code",
   "execution_count": 153,
   "metadata": {},
   "outputs": [
    {
     "name": "stdout",
     "output_type": "stream",
     "text": [
      "[1 2 3]\n"
     ]
    }
   ],
   "source": [
    "arr = np.array([1, 3, 5, 7])\n",
    "\n",
    "x = np.searchsorted(arr, [2, 4, 6],side='right')\n",
    "#这个返回的是每个元组数据中在数组的该插入的位置\n",
    "print(x)"
   ]
  },
  {
   "cell_type": "code",
   "execution_count": 163,
   "metadata": {},
   "outputs": [
    {
     "name": "stdout",
     "output_type": "stream",
     "text": [
      "[[2 3 4]\n",
      " [0 1 5]]\n"
     ]
    }
   ],
   "source": [
    "arr = np.array([[3, 2, 4], [5, 0, 1]])\n",
    "\n",
    "print(np.sort(arr))"
   ]
  },
  {
   "cell_type": "markdown",
   "metadata": {},
   "source": [
    "数组过滤\n",
    "从现有数组中取出一些元素并从中创建新数组称为过滤（filtering）。\n",
    "\n",
    "在 NumPy 中，我们使用布尔索引列表来过滤数组。\n",
    "\n",
    "布尔索引列表是与数组中的索引相对应的布尔值列表。\n",
    "\n",
    "如果索引处的值为 True，则该元素包含在过滤后的数组中；如果索引处的值为 False，则该元素将从过滤后的数组中排除。"
   ]
  },
  {
   "cell_type": "code",
   "execution_count": null,
   "metadata": {},
   "outputs": [],
   "source": [
    "arr = np.array([61, 62, 63, 64, 65])\n",
    "\n",
    "x = [True, False, True, False, True]\n",
    "\n",
    "newarr = arr[x]\n",
    "\n",
    "print(newarr)"
   ]
  }
 ],
 "metadata": {
  "kernelspec": {
   "display_name": "base",
   "language": "python",
   "name": "python3"
  },
  "language_info": {
   "codemirror_mode": {
    "name": "ipython",
    "version": 3
   },
   "file_extension": ".py",
   "mimetype": "text/x-python",
   "name": "python",
   "nbconvert_exporter": "python",
   "pygments_lexer": "ipython3",
   "version": "3.7.0"
  }
 },
 "nbformat": 4,
 "nbformat_minor": 2
}
